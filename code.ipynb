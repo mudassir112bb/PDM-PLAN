import pandas as pd
import numpy as np
import seaborn as sns
import matplotlib.pyplot as plt
from sklearn.model_selection import train_test_split
from sklearn.ensemble import RandomForestClassifier
from sklearn.metrics import accuracy_score, classification_report, confusion_matrix

# Define column names for the 14 selected attributes
columns = [
    "age", "sex", "cp", "trestbps", "chol", "fbs", "restecg", "thalach",
    "exang", "oldpeak", "slope", "ca", "thal", "num"
]

# Load dataset
file_path = "processed.cleveland.data"
df = pd.read_csv(file_path, header=None, names=columns, na_values="?")

# Drop missing values
df.dropna(inplace=True)

# Convert target variable to binary classification (0 = No Disease, 1 = Disease)
df["num"] = df["num"].apply(lambda x: 1 if x > 0 else 0)

# Exploratory Data Analysis
print("Dataset Info:\n", df.info())
print("Dataset Summary:\n", df.describe())

# Class Distribution
sns.countplot(x="num", data=df)
plt.title("Heart Disease Presence Distribution")
plt.show()

# Pairplot for selected features
sns.pairplot(df[["age", "chol", "thalach", "oldpeak", "num"]], hue="num")
plt.show()

# Correlation Matrix
plt.figure(figsize=(10,6))
sns.heatmap(df.corr(), annot=True, cmap="coolwarm", fmt=".2f")
plt.title("Feature Correlation Matrix")
plt.show()

# Define features and target variable
X = df.drop("num", axis=1)
y = df["num"]

# Train-Test Split
X_train, X_test, y_train, y_test = train_test_split(X, y, test_size=0.2, random_state=42)

# Train a Random Forest Classifier
model = RandomForestClassifier(n_estimators=100, random_state=42)
model.fit(X_train, y_train)

# Predictions
y_pred = model.predict(X_test)

# Evaluate Model Performance
print("Accuracy:", accuracy_score(y_test, y_pred))
print("\nClassification Report:\n", classification_report(y_test, y_pred))

# Confusion Matrix
sns.heatmap(confusion_matrix(y_test, y_pred), annot=True, fmt="d", cmap="Blues")
plt.xlabel("Predicted")
plt.ylabel("Actual")
plt.title("Confusion Matrix")
plt.show()
